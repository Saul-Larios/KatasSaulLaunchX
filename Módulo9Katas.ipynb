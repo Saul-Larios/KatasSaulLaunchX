{
 "cells": [
  {
   "cell_type": "markdown",
   "metadata": {},
   "source": [
    "### Ejercicio 1: Trabajar con argumentos en funciones\n",
    "Comienza por crear una función que necesite tres lecturas de combustible y devuelva un informe:"
   ]
  },
  {
   "cell_type": "code",
   "execution_count": 77,
   "metadata": {},
   "outputs": [],
   "source": [
    "# Función para leer 3 tanques de combustible y muestre el promedio\n",
    "def fuel(Main_Tank, Second_Tank,Reserve_Tank):\n",
    "    Average_Tank = (Main_Tank + Second_Tank + Reserve_Tank)/3\n",
    "    return f\"\"\"Tanks Report:\n",
    "    Main Tank:{Main_Tank}%\n",
    "    Second Tank:{Second_Tank}%\n",
    "    Reserve Tank:{Reserve_Tank}%\n",
    "    Average Tanks:{round(Average_Tank,2)}%\"\"\""
   ]
  },
  {
   "cell_type": "markdown",
   "metadata": {},
   "source": [
    "Ahora que hemos definido la función de informes, vamos a comprobarlo. Para esta misión, los tanques no están llenos:"
   ]
  },
  {
   "cell_type": "code",
   "execution_count": 78,
   "metadata": {},
   "outputs": [
    {
     "name": "stdout",
     "output_type": "stream",
     "text": [
      "Tanks Report:\n",
      "    Main Tank:60%\n",
      "    Second Tank:75%\n",
      "    Reserve Tank:20%\n",
      "    Average Tanks:51.67%\n"
     ]
    }
   ],
   "source": [
    "print(fuel(60, 75, 20))"
   ]
  },
  {
   "cell_type": "markdown",
   "metadata": {},
   "source": [
    "En lugar de simplemente crear el informe, la función también está calculando el promedio. Mejora la legibilidad extrayendo el cálculo promedio de la función en una nueva función para que el promedio se pueda hacer de forma independiente:"
   ]
  },
  {
   "cell_type": "code",
   "execution_count": 100,
   "metadata": {},
   "outputs": [
    {
     "name": "stdout",
     "output_type": "stream",
     "text": [
      "51.67\n"
     ]
    }
   ],
   "source": [
    "def average(tanks):\n",
    "    average_def = sum(tanks)\n",
    "    n_tanks = len(tanks)\n",
    "    return average_def /n_tanks\n",
    "print(round(average([60, 75, 20]),2))\n",
    "    "
   ]
  },
  {
   "cell_type": "markdown",
   "metadata": {},
   "source": [
    "Ahora actualiza la función de informes para llamando a la nueva función del promedio:"
   ]
  },
  {
   "cell_type": "code",
   "execution_count": 98,
   "metadata": {},
   "outputs": [],
   "source": [
    "def fuel(Main_Tank, Second_Tank,Reserve_Tank):\n",
    "    return f\"\"\"Tanks Report:\n",
    "    Main Tank:{Main_Tank}%\n",
    "    Second Tank:{Second_Tank}%\n",
    "    Reserve Tank:{Reserve_Tank}%\n",
    "    Average Tanks:{round(average([Main_Tank, Second_Tank,Reserve_Tank]),2)}%\"\"\""
   ]
  },
  {
   "cell_type": "code",
   "execution_count": 99,
   "metadata": {},
   "outputs": [
    {
     "name": "stdout",
     "output_type": "stream",
     "text": [
      "Tanks Report:\n",
      "    Main Tank:60%\n",
      "    Second Tank:75%\n",
      "    Reserve Tank:20%\n",
      "    Average Tanks:51.67%\n"
     ]
    }
   ],
   "source": [
    "print(fuel(60, 75, 20))"
   ]
  },
  {
   "cell_type": "markdown",
   "metadata": {},
   "source": [
    "### Ejercicio 2: Trabajo con argumentos de palabra clave\n",
    "En este ejercicio, construirás un informe de cohete que requiere varias piezas de información, como el tiempo hasta el destino, el combustible a la izquierda y el nombre del destino. Comienza por crear una función que creará un informe preciso de la misión:"
   ]
  },
  {
   "cell_type": "code",
   "execution_count": 127,
   "metadata": {},
   "outputs": [
    {
     "name": "stdout",
     "output_type": "stream",
     "text": [
      "Rocket Report:\n",
      "    Time to Destination:70 minuts\n",
      "    Fuel:5000 gallons\n",
      "    Destination Name:Earth\n"
     ]
    }
   ],
   "source": [
    "# Función con un informe preciso de la misión.\n",
    "#  Considera hora de prelanzamiento, tiempo de vuelo, destino, tanque externo y tanque interno\n",
    "def Rocket(Time_Pre,Time_fly, Fuel_Internal, Fuel_External,Destination):\n",
    "    return f\"\"\"Rocket Report:\n",
    "    Time to Destination:{Time_Pre + Time_fly} minuts\n",
    "    Fuel:{Fuel_Internal + Fuel_External} gallons\n",
    "    Destination Name:{Destination}\"\"\"\n",
    "    \n",
    "print(Rocket(50,20,2000,3000,'Earth'))"
   ]
  },
  {
   "cell_type": "markdown",
   "metadata": {},
   "source": [
    "La función es problemática porque no se puede adaptar para minutos adicionales o tanques adicionales de combustible. Hazlo más flexible permitiendo cualquier número de pasos basados en el tiempo y cualquier número de tanques. En lugar de usar *args y **kwargs, aprovecha el hecho de que puedes usar cualquier nombre que desees. Asegurate que la función sea más legible mediante el uso de nombres de variables que están asociados con las entradas, como *minutes y **fuel_reservoirs:"
   ]
  },
  {
   "cell_type": "code",
   "execution_count": 132,
   "metadata": {},
   "outputs": [
    {
     "name": "stdout",
     "output_type": "stream",
     "text": [
      "External: 200\n",
      "Rocket Report:\n",
      "        Time to Destination:73 minuts\n",
      "        Fuel:600 gallons\n",
      "        Destination Name:Earth\n"
     ]
    }
   ],
   "source": [
    "# Escribe tu nueva función de reporte considerando lo anterior\n",
    "def Rocket(Destination, *Time, **Fuel):\n",
    "        return f\"\"\"Rocket Report:\n",
    "        Time to Destination:{sum(Time)} minuts\n",
    "        Fuel:{sum(Fuel.values())} gallons\n",
    "        Destination Name:{Destination}\"\"\"\n",
    "print(Rocket('Earth',50,10,10,2,1,External=200,Internal=100,Reserve=300))\n",
    "\n"
   ]
  },
  {
   "cell_type": "markdown",
   "metadata": {},
   "source": [
    "Debido a que el combustible que queda en los tanques es específico de cada tanque, actualiza la función para usar el nombre de cada tanque en el informe:"
   ]
  },
  {
   "cell_type": "code",
   "execution_count": 152,
   "metadata": {},
   "outputs": [
    {
     "name": "stdout",
     "output_type": "stream",
     "text": [
      "Rocket Report:\n",
      "Destination Name:Earth\n",
      "Time to Destination:73 minuts\n",
      "Fuel:600 gallons\n",
      "External Tank: 200 gallons\n",
      "Internal Tank: 100 gallons\n",
      "Reserve Tank: 300 gallons\n",
      "\n"
     ]
    }
   ],
   "source": [
    "def Rocket(Destination, *Time, **Fuel):        \n",
    "    Report = f\"\"\"Rocket Report:\n",
    "Destination Name:{Destination}\n",
    "Time to Destination:{sum(Time)} minuts\n",
    "Fuel:{sum(Fuel.values())} gallons\n",
    "\"\"\"\n",
    "    for title, name in Fuel.items():\n",
    "        Report += f\"{title} Tank: {name} gallons\\n\"\n",
    "    return Report\n",
    "print(Rocket('Earth',50,10,10,2,1,External=200,Internal=100,Reserve=300))\n"
   ]
  }
 ],
 "metadata": {
  "interpreter": {
   "hash": "9f26b07b2b1db44b02fe1b51808939a3bb5f3b69b59379540470e4be0e2619be"
  },
  "kernelspec": {
   "display_name": "Python 3.10.2 64-bit",
   "language": "python",
   "name": "python3"
  },
  "language_info": {
   "codemirror_mode": {
    "name": "ipython",
    "version": 3
   },
   "file_extension": ".py",
   "mimetype": "text/x-python",
   "name": "python",
   "nbconvert_exporter": "python",
   "pygments_lexer": "ipython3",
   "version": "3.10.2"
  },
  "orig_nbformat": 4
 },
 "nbformat": 4,
 "nbformat_minor": 2
}
