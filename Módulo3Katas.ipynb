{
 "cells": [
  {
   "cell_type": "code",
   "execution_count": 10,
   "metadata": {},
   "outputs": [
    {
     "name": "stdout",
     "output_type": "stream",
     "text": [
      "Un asteroide se acerca a la Tierra demasiado rápido\n"
     ]
    }
   ],
   "source": [
    "AS = 49\n",
    "if AS > 25:\n",
    "  print ('¡Un asteroide se acerca a la Tierra demasiado rápido!')\n",
    "else:\n",
    "  print ('Tengan un buen dia')"
   ]
  },
  {
   "cell_type": "code",
   "execution_count": 2,
   "metadata": {},
   "outputs": [
    {
     "name": "stdout",
     "output_type": "stream",
     "text": [
      "Sigan con su dia\n"
     ]
    }
   ],
   "source": [
    "AS = 19\n",
    "if AS > 20:\n",
    "    print ('¡Miren el cielo se aprecia una luz magica!')\n",
    "elif AS == 20:\n",
    "    print ('¡Miren el cielo se aprecia una luz magica!')\n",
    "else:\n",
    "    print ('Sigan con su dia')"
   ]
  },
  {
   "cell_type": "code",
   "execution_count": 12,
   "metadata": {},
   "outputs": [
    {
     "name": "stdout",
     "output_type": "stream",
     "text": [
      "Peligro un asteroide se aproxima ¡huid!\n"
     ]
    }
   ],
   "source": [
    "AS = 26\n",
    "AD = 49\n",
    "if AS > 25 and AD > 25:\n",
    "    print ('¡Peligro! un asteroide se aproxima ¡huid!')\n",
    "elif AS >= 20:\n",
    "    print ('¡Miren el cielo se aprecia una luz magica!')\n",
    "elif AD < 25:\n",
    "    print ('Sigan con su dia')\n",
    "else:\n",
    "    print ('Sigan con su dia')"
   ]
  }
 ],
 "metadata": {
  "interpreter": {
   "hash": "9f26b07b2b1db44b02fe1b51808939a3bb5f3b69b59379540470e4be0e2619be"
  },
  "kernelspec": {
   "display_name": "Python 3.10.2 64-bit",
   "language": "python",
   "name": "python3"
  },
  "language_info": {
   "codemirror_mode": {
    "name": "ipython",
    "version": 3
   },
   "file_extension": ".py",
   "mimetype": "text/x-python",
   "name": "python",
   "nbconvert_exporter": "python",
   "pygments_lexer": "ipython3",
   "version": "3.10.2"
  },
  "orig_nbformat": 4
 },
 "nbformat": 4,
 "nbformat_minor": 2
}
